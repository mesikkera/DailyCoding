{
 "cells": [
  {
   "cell_type": "code",
   "id": "initial_id",
   "metadata": {
    "collapsed": true,
    "ExecuteTime": {
     "end_time": "2024-10-01T13:04:08.518064Z",
     "start_time": "2024-10-01T13:04:03.951499Z"
    }
   },
   "source": "import pandas as pd",
   "outputs": [],
   "execution_count": 1
  },
  {
   "metadata": {
    "ExecuteTime": {
     "end_time": "2024-10-01T13:32:40.308905Z",
     "start_time": "2024-10-01T13:32:40.304338Z"
    }
   },
   "cell_type": "code",
   "source": [
    "names = ['Bob', 'Jessica', 'Mary', 'John', 'Mel']\n",
    "births = [968, 155, 77, 578, 973]\n",
    "custom = [1, 5, 25, 13, 23232]\n",
    "\n",
    "BabyDataSet = list(zip(names, births))\n",
    "df = pd.DataFrame(data=BabyDataSet, columns=['Name', 'Births'])\n",
    "\n",
    "df.head()"
   ],
   "id": "866ae7ea114621d4",
   "outputs": [
    {
     "data": {
      "text/plain": [
       "      Name  Births\n",
       "0      Bob     968\n",
       "1  Jessica     155\n",
       "2     Mary      77\n",
       "3     John     578\n",
       "4      Mel     973"
      ],
      "text/html": [
       "<div>\n",
       "<style scoped>\n",
       "    .dataframe tbody tr th:only-of-type {\n",
       "        vertical-align: middle;\n",
       "    }\n",
       "\n",
       "    .dataframe tbody tr th {\n",
       "        vertical-align: top;\n",
       "    }\n",
       "\n",
       "    .dataframe thead th {\n",
       "        text-align: right;\n",
       "    }\n",
       "</style>\n",
       "<table border=\"1\" class=\"dataframe\">\n",
       "  <thead>\n",
       "    <tr style=\"text-align: right;\">\n",
       "      <th></th>\n",
       "      <th>Name</th>\n",
       "      <th>Births</th>\n",
       "    </tr>\n",
       "  </thead>\n",
       "  <tbody>\n",
       "    <tr>\n",
       "      <th>0</th>\n",
       "      <td>Bob</td>\n",
       "      <td>968</td>\n",
       "    </tr>\n",
       "    <tr>\n",
       "      <th>1</th>\n",
       "      <td>Jessica</td>\n",
       "      <td>155</td>\n",
       "    </tr>\n",
       "    <tr>\n",
       "      <th>2</th>\n",
       "      <td>Mary</td>\n",
       "      <td>77</td>\n",
       "    </tr>\n",
       "    <tr>\n",
       "      <th>3</th>\n",
       "      <td>John</td>\n",
       "      <td>578</td>\n",
       "    </tr>\n",
       "    <tr>\n",
       "      <th>4</th>\n",
       "      <td>Mel</td>\n",
       "      <td>973</td>\n",
       "    </tr>\n",
       "  </tbody>\n",
       "</table>\n",
       "</div>"
      ]
     },
     "execution_count": 3,
     "metadata": {},
     "output_type": "execute_result"
    }
   ],
   "execution_count": 3
  },
  {
   "metadata": {
    "ExecuteTime": {
     "end_time": "2024-10-01T13:46:53.456551Z",
     "start_time": "2024-10-01T13:46:53.448890Z"
    }
   },
   "cell_type": "code",
   "source": "df.dtypes",
   "id": "f82ec4893dd53d3d",
   "outputs": [
    {
     "data": {
      "text/plain": [
       "Name      object\n",
       "Births     int64\n",
       "dtype: object"
      ]
     },
     "execution_count": 4,
     "metadata": {},
     "output_type": "execute_result"
    }
   ],
   "execution_count": 4
  },
  {
   "metadata": {
    "ExecuteTime": {
     "end_time": "2024-10-01T13:47:25.814971Z",
     "start_time": "2024-10-01T13:47:25.812213Z"
    }
   },
   "cell_type": "code",
   "source": "df.index",
   "id": "9928c87c7cbf8a0c",
   "outputs": [
    {
     "data": {
      "text/plain": [
       "RangeIndex(start=0, stop=5, step=1)"
      ]
     },
     "execution_count": 5,
     "metadata": {},
     "output_type": "execute_result"
    }
   ],
   "execution_count": 5
  },
  {
   "metadata": {
    "ExecuteTime": {
     "end_time": "2024-10-01T13:49:13.958553Z",
     "start_time": "2024-10-01T13:49:13.954900Z"
    }
   },
   "cell_type": "code",
   "source": "df.columns",
   "id": "dc0030a5044b54d8",
   "outputs": [
    {
     "data": {
      "text/plain": [
       "Index(['Name', 'Births'], dtype='object')"
      ]
     },
     "execution_count": 6,
     "metadata": {},
     "output_type": "execute_result"
    }
   ],
   "execution_count": 6
  },
  {
   "metadata": {
    "ExecuteTime": {
     "end_time": "2024-10-01T14:04:51.108793Z",
     "start_time": "2024-10-01T14:04:51.105434Z"
    }
   },
   "cell_type": "code",
   "source": "df['Name']",
   "id": "353e855d811949fc",
   "outputs": [
    {
     "data": {
      "text/plain": [
       "0        Bob\n",
       "1    Jessica\n",
       "2       Mary\n",
       "3       John\n",
       "4        Mel\n",
       "Name: Name, dtype: object"
      ]
     },
     "execution_count": 9,
     "metadata": {},
     "output_type": "execute_result"
    }
   ],
   "execution_count": 9
  },
  {
   "metadata": {
    "ExecuteTime": {
     "end_time": "2024-10-01T14:05:48.829121Z",
     "start_time": "2024-10-01T14:05:48.823784Z"
    }
   },
   "cell_type": "code",
   "source": "df[df['Births'] > 100]",
   "id": "4efd48dd567ddb01",
   "outputs": [
    {
     "data": {
      "text/plain": [
       "      Name  Births\n",
       "0      Bob     968\n",
       "1  Jessica     155\n",
       "3     John     578\n",
       "4      Mel     973"
      ],
      "text/html": [
       "<div>\n",
       "<style scoped>\n",
       "    .dataframe tbody tr th:only-of-type {\n",
       "        vertical-align: middle;\n",
       "    }\n",
       "\n",
       "    .dataframe tbody tr th {\n",
       "        vertical-align: top;\n",
       "    }\n",
       "\n",
       "    .dataframe thead th {\n",
       "        text-align: right;\n",
       "    }\n",
       "</style>\n",
       "<table border=\"1\" class=\"dataframe\">\n",
       "  <thead>\n",
       "    <tr style=\"text-align: right;\">\n",
       "      <th></th>\n",
       "      <th>Name</th>\n",
       "      <th>Births</th>\n",
       "    </tr>\n",
       "  </thead>\n",
       "  <tbody>\n",
       "    <tr>\n",
       "      <th>0</th>\n",
       "      <td>Bob</td>\n",
       "      <td>968</td>\n",
       "    </tr>\n",
       "    <tr>\n",
       "      <th>1</th>\n",
       "      <td>Jessica</td>\n",
       "      <td>155</td>\n",
       "    </tr>\n",
       "    <tr>\n",
       "      <th>3</th>\n",
       "      <td>John</td>\n",
       "      <td>578</td>\n",
       "    </tr>\n",
       "    <tr>\n",
       "      <th>4</th>\n",
       "      <td>Mel</td>\n",
       "      <td>973</td>\n",
       "    </tr>\n",
       "  </tbody>\n",
       "</table>\n",
       "</div>"
      ]
     },
     "execution_count": 11,
     "metadata": {},
     "output_type": "execute_result"
    }
   ],
   "execution_count": 11
  },
  {
   "metadata": {
    "ExecuteTime": {
     "end_time": "2024-10-01T14:07:06.072786Z",
     "start_time": "2024-10-01T14:07:06.069945Z"
    }
   },
   "cell_type": "code",
   "source": "df['Births'].mean()",
   "id": "44bd9629d6b1e3b8",
   "outputs": [
    {
     "data": {
      "text/plain": [
       "np.float64(550.2)"
      ]
     },
     "execution_count": 14,
     "metadata": {},
     "output_type": "execute_result"
    }
   ],
   "execution_count": 14
  },
  {
   "metadata": {
    "ExecuteTime": {
     "end_time": "2024-10-01T14:07:53.129078Z",
     "start_time": "2024-10-01T14:07:53.127116Z"
    }
   },
   "cell_type": "code",
   "source": "import numpy as np",
   "id": "8de5f144ae8513a7",
   "outputs": [],
   "execution_count": 15
  },
  {
   "metadata": {
    "ExecuteTime": {
     "end_time": "2024-10-01T14:09:25.979145Z",
     "start_time": "2024-10-01T14:09:25.974804Z"
    }
   },
   "cell_type": "code",
   "source": [
    "arr1 = np.arange(15).reshape(3, 5)\n",
    "arr1"
   ],
   "id": "4341f0fb1af4c60e",
   "outputs": [
    {
     "data": {
      "text/plain": [
       "array([[ 0,  1,  2,  3,  4],\n",
       "       [ 5,  6,  7,  8,  9],\n",
       "       [10, 11, 12, 13, 14]])"
      ]
     },
     "execution_count": 17,
     "metadata": {},
     "output_type": "execute_result"
    }
   ],
   "execution_count": 17
  },
  {
   "metadata": {
    "ExecuteTime": {
     "end_time": "2024-10-01T14:10:06.029649Z",
     "start_time": "2024-10-01T14:10:06.026847Z"
    }
   },
   "cell_type": "code",
   "source": "arr1.shape",
   "id": "235c439a5ca04acc",
   "outputs": [
    {
     "data": {
      "text/plain": [
       "(3, 5)"
      ]
     },
     "execution_count": 18,
     "metadata": {},
     "output_type": "execute_result"
    }
   ],
   "execution_count": 18
  },
  {
   "metadata": {
    "ExecuteTime": {
     "end_time": "2024-10-01T14:10:17.330940Z",
     "start_time": "2024-10-01T14:10:17.327722Z"
    }
   },
   "cell_type": "code",
   "source": "arr1.dtype",
   "id": "13f7e2d271a5e5c8",
   "outputs": [
    {
     "data": {
      "text/plain": [
       "dtype('int64')"
      ]
     },
     "execution_count": 19,
     "metadata": {},
     "output_type": "execute_result"
    }
   ],
   "execution_count": 19
  },
  {
   "metadata": {
    "ExecuteTime": {
     "end_time": "2024-10-01T14:10:47.055799Z",
     "start_time": "2024-10-01T14:10:47.053197Z"
    }
   },
   "cell_type": "code",
   "source": [
    "arr3 = np.zeros((3, 4))\n",
    "arr3"
   ],
   "id": "3a90126e28cc27ce",
   "outputs": [
    {
     "data": {
      "text/plain": [
       "array([[0., 0., 0., 0.],\n",
       "       [0., 0., 0., 0.],\n",
       "       [0., 0., 0., 0.]])"
      ]
     },
     "execution_count": 21,
     "metadata": {},
     "output_type": "execute_result"
    }
   ],
   "execution_count": 21
  },
  {
   "metadata": {
    "ExecuteTime": {
     "end_time": "2024-10-01T14:14:16.683361Z",
     "start_time": "2024-10-01T14:14:16.679560Z"
    }
   },
   "cell_type": "code",
   "source": [
    "arr4 = np.array([[1, 2, 3], [4, 5, 6]], dtype=np.float64)\n",
    "arr5 = np.array([[7,8,9], [10,11,12]], dtype=np.float64)\n",
    "\n",
    "print(\"arr4 + arr5 = \")\n",
    "print(arr4 + arr5, '\\n')\n",
    "print(\"arr4 - arr5 = \")\n",
    "print(arr4 - arr5, '\\n')\n",
    "print(\"arr4 * arr5 = \")\n",
    "print(arr4 * arr5, '\\n')\n",
    "print(\"arr4 / arr5 = \")\n",
    "print(arr4 / arr5, '\\n')"
   ],
   "id": "3078f48de120bc29",
   "outputs": [
    {
     "name": "stdout",
     "output_type": "stream",
     "text": [
      "arr4 + arr5 = \n",
      "[[ 8. 10. 12.]\n",
      " [14. 16. 18.]] \n",
      "\n",
      "arr4 - arr5 = \n",
      "[[-6. -6. -6.]\n",
      " [-6. -6. -6.]] \n",
      "\n",
      "arr4 * arr5 = \n",
      "[[ 7. 16. 27.]\n",
      " [40. 55. 72.]] \n",
      "\n",
      "arr4 / arr5 = \n",
      "[[0.14285714 0.25       0.33333333]\n",
      " [0.4        0.45454545 0.5       ]] \n",
      "\n"
     ]
    }
   ],
   "execution_count": 24
  },
  {
   "metadata": {
    "ExecuteTime": {
     "end_time": "2024-10-01T14:15:44.607282Z",
     "start_time": "2024-10-01T14:15:29.872811Z"
    }
   },
   "cell_type": "code",
   "source": "import matplotlib.pyplot as plt",
   "id": "6e3d2506467e54f5",
   "outputs": [
    {
     "name": "stderr",
     "output_type": "stream",
     "text": [
      "Matplotlib is building the font cache; this may take a moment.\n"
     ]
    }
   ],
   "execution_count": 25
  },
  {
   "metadata": {
    "ExecuteTime": {
     "end_time": "2024-10-01T14:16:47.605549Z",
     "start_time": "2024-10-01T14:16:47.537218Z"
    }
   },
   "cell_type": "code",
   "source": [
    "y = df['Births']\n",
    "x = df['Name']\n",
    "\n",
    "plt.bar(x, y)\n",
    "plt.xlabel('Names')\n",
    "plt.ylabel('Births')\n",
    "plt.title('Bar plot')\n",
    "plt.show()"
   ],
   "id": "26370b6fefad6f48",
   "outputs": [
    {
     "data": {
      "text/plain": [
       "<Figure size 640x480 with 1 Axes>"
      ],
      "image/png": "[encoded data removed]"
     },
     "metadata": {},
     "output_type": "display_data"
    }
   ],
   "execution_count": 26
  },
  {
   "metadata": {
    "ExecuteTime": {
     "end_time": "2024-10-01T14:19:44.822317Z",
     "start_time": "2024-10-01T14:19:44.759834Z"
    }
   },
   "cell_type": "code",
   "source": [
    "np.random.seed(19911225)\n",
    "\n",
    "x = np.arange(0.0, 100.0, 5.0)\n",
    "y = (x * 1.5) + np.random.rand(20) * 50\n",
    "\n",
    "plt.scatter(x, y, c = 'b', alpha=0.5, label='scatter point')\n",
    "plt.xlabel('X')\n",
    "plt.ylabel('Y')\n",
    "plt.legend(loc='upper left')\n",
    "plt.title(\"Scatter plot\")\n",
    "plt.show()"
   ],
   "id": "29b2ea50a9de928",
   "outputs": [
    {
     "data": {
      "text/plain": [
       "<Figure size 640x480 with 1 Axes>"
      ],
      "image/png": "[encoded data removed]"
     },
     "metadata": {},
     "output_type": "display_data"
    }
   ],
   "execution_count": 27
  }
 ],
 "metadata": {
  "kernelspec": {
   "display_name": "Python 3",
   "language": "python",
   "name": "python3"
  },
  "language_info": {
   "codemirror_mode": {
    "name": "ipython",
    "version": 2
   },
   "file_extension": ".py",
   "mimetype": "text/x-python",
   "name": "python",
   "nbconvert_exporter": "python",
   "pygments_lexer": "ipython2",
   "version": "2.7.6"
  }
 },
 "nbformat": 4,
 "nbformat_minor": 5
}
